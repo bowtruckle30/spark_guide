{
 "cells": [
  {
   "cell_type": "code",
   "execution_count": 1,
   "metadata": {},
   "outputs": [],
   "source": [
    "from pyspark.sql import SparkSession, Row\n",
    "from datetime import datetime, date\n",
    "import pandas as pd\n",
    "import time"
   ]
  },
  {
   "cell_type": "code",
   "execution_count": 2,
   "metadata": {},
   "outputs": [
    {
     "name": "stderr",
     "output_type": "stream",
     "text": [
      "Setting default log level to \"WARN\".\n",
      "To adjust logging level use sc.setLogLevel(newLevel). For SparkR, use setLogLevel(newLevel).\n",
      "23/10/12 22:01:26 WARN NativeCodeLoader: Unable to load native-hadoop library for your platform... using builtin-java classes where applicable\n"
     ]
    }
   ],
   "source": [
    "spark = SparkSession.builder.getOrCreate()"
   ]
  },
  {
   "cell_type": "markdown",
   "metadata": {},
   "source": [
    "Create PySpark dataframe from list of Rows"
   ]
  },
  {
   "cell_type": "code",
   "execution_count": 4,
   "metadata": {},
   "outputs": [
    {
     "name": "stdout",
     "output_type": "stream",
     "text": [
      "+---+---+-------+----------+-------------------+\n",
      "|  a|  b|      c|         d|                  e|\n",
      "+---+---+-------+----------+-------------------+\n",
      "|  1|1.0|string1|2023-01-01|2023-01-01 12:00:00|\n",
      "|  2|2.0|string2|2023-01-02|2023-01-02 12:00:00|\n",
      "|  3|3.0|string3|2023-01-03|2023-01-03 12:00:00|\n",
      "+---+---+-------+----------+-------------------+\n",
      "\n"
     ]
    }
   ],
   "source": [
    "df = spark.createDataFrame([\n",
    "    Row(a=1, b = 1., c='string1', d=date(2023, 1, 1), e=datetime(2023, 1, 1, 12, 0)),    \n",
    "    Row(a=2, b = 2., c='string2', d=date(2023, 1, 2), e=datetime(2023, 1, 2, 12, 0)),    \n",
    "    Row(a=3, b = 3., c='string3', d=date(2023, 1, 3), e=datetime(2023, 1, 3, 12, 0))\n",
    "])\n",
    "df.show()"
   ]
  },
  {
   "cell_type": "markdown",
   "metadata": {},
   "source": [
    "Create PySpark dataframe with explicit schema"
   ]
  },
  {
   "cell_type": "code",
   "execution_count": 5,
   "metadata": {},
   "outputs": [
    {
     "data": {
      "text/plain": [
       "DataFrame[a: bigint, b: double, c: string, d: date, e: timestamp]"
      ]
     },
     "execution_count": 5,
     "metadata": {},
     "output_type": "execute_result"
    }
   ],
   "source": [
    "df = spark.createDataFrame([\n",
    "    Row(a=1, b= 1., c= 'String1', d = date(2023, 1, 1), e=datetime(2023,1,1,12,0)),\n",
    "    Row(a=2, b= 2., c= 'String2', d = date(2023, 2, 1), e=datetime(2023,1,2,12,0)),\n",
    "    Row(a=3, b= 3., c= 'String3', d = date(2023, 3, 1), e=datetime(2023,1,3,12,0))],\n",
    "    schema = 'a long, b double, c string, d date, e timestamp'\n",
    ")\n",
    "df"
   ]
  },
  {
   "cell_type": "markdown",
   "metadata": {},
   "source": [
    "Create PySpark dataframe with pandas dataframe"
   ]
  },
  {
   "cell_type": "code",
   "execution_count": 6,
   "metadata": {},
   "outputs": [
    {
     "data": {
      "text/plain": [
       "DataFrame[a: bigint, b: double, c: string, d: date, e: timestamp]"
      ]
     },
     "execution_count": 6,
     "metadata": {},
     "output_type": "execute_result"
    }
   ],
   "source": [
    "pandas_df = pd.DataFrame(\n",
    "    {\n",
    "        'a': [1,2,3],\n",
    "        'b': [1., 2., 3.],\n",
    "        'c': ['String1', 'String2', 'String3'],\n",
    "        'd': [date(2023,1,1), date(2023,1,2), date(2023,1,3)],\n",
    "        'e': [datetime(2023,1,1,12,0), datetime(2023,1,2,12,0), datetime(2023,1,3,12,0)]\n",
    "    }\n",
    ")\n",
    "\n",
    "df = spark.createDataFrame(pandas_df)\n",
    "df"
   ]
  },
  {
   "cell_type": "code",
   "execution_count": 18,
   "metadata": {},
   "outputs": [
    {
     "name": "stdout",
     "output_type": "stream",
     "text": [
      "+---+---+-------+----------+-------------------+\n",
      "|  a|  b|      c|         d|                  e|\n",
      "+---+---+-------+----------+-------------------+\n",
      "|  1|1.0|String1|2023-01-01|2023-01-01 12:00:00|\n",
      "|  2|2.0|String2|2023-01-02|2023-01-02 12:00:00|\n",
      "|  3|3.0|String3|2023-01-03|2023-01-03 12:00:00|\n",
      "|  4|4.0|String4|2023-01-04|2023-01-04 12:00:00|\n",
      "+---+---+-------+----------+-------------------+\n",
      "\n"
     ]
    },
    {
     "name": "stderr",
     "output_type": "stream",
     "text": [
      "                                                                                \r"
     ]
    }
   ],
   "source": [
    "data = [[1, 1., 'String1', date(2023,1,1), datetime(2023,1,1,12,0)],\n",
    "        [2, 2., 'String2', date(2023,1,2), datetime(2023,1,2,12,0)],\n",
    "        [3, 3., 'String3', date(2023,1,3), datetime(2023,1,3,12,0)],\n",
    "        [4, 4., 'String4', date(2023,1,4), datetime(2023,1,4,12,0)]]\n",
    "\n",
    "column = ['a', 'b', 'c', 'd', 'e']\n",
    "df = spark.createDataFrame(data, column)\n",
    "df.show()\n"
   ]
  },
  {
   "cell_type": "markdown",
   "metadata": {},
   "source": [
    "Dataframe display using show method"
   ]
  },
  {
   "cell_type": "code",
   "execution_count": 19,
   "metadata": {},
   "outputs": [
    {
     "name": "stdout",
     "output_type": "stream",
     "text": [
      "+---+---+-------+----------+-------------------+\n",
      "|  a|  b|      c|         d|                  e|\n",
      "+---+---+-------+----------+-------------------+\n",
      "|  1|1.0|String1|2023-01-01|2023-01-01 12:00:00|\n",
      "|  2|2.0|String2|2023-01-02|2023-01-02 12:00:00|\n",
      "|  3|3.0|String3|2023-01-03|2023-01-03 12:00:00|\n",
      "|  4|4.0|String4|2023-01-04|2023-01-04 12:00:00|\n",
      "+---+---+-------+----------+-------------------+\n",
      "\n"
     ]
    }
   ],
   "source": [
    "df.show()"
   ]
  },
  {
   "cell_type": "code",
   "execution_count": 20,
   "metadata": {},
   "outputs": [
    {
     "data": {
      "text/html": [
       "<table border='1'>\n",
       "<tr><th>a</th><th>b</th><th>c</th><th>d</th><th>e</th></tr>\n",
       "<tr><td>1</td><td>1.0</td><td>String1</td><td>2023-01-01</td><td>2023-01-01 12:00:00</td></tr>\n",
       "<tr><td>2</td><td>2.0</td><td>String2</td><td>2023-01-02</td><td>2023-01-02 12:00:00</td></tr>\n",
       "<tr><td>3</td><td>3.0</td><td>String3</td><td>2023-01-03</td><td>2023-01-03 12:00:00</td></tr>\n",
       "<tr><td>4</td><td>4.0</td><td>String4</td><td>2023-01-04</td><td>2023-01-04 12:00:00</td></tr>\n",
       "</table>\n"
      ],
      "text/plain": [
       "+---+---+-------+----------+-------------------+\n",
       "|  a|  b|      c|         d|                  e|\n",
       "+---+---+-------+----------+-------------------+\n",
       "|  1|1.0|String1|2023-01-01|2023-01-01 12:00:00|\n",
       "|  2|2.0|String2|2023-01-02|2023-01-02 12:00:00|\n",
       "|  3|3.0|String3|2023-01-03|2023-01-03 12:00:00|\n",
       "|  4|4.0|String4|2023-01-04|2023-01-04 12:00:00|\n",
       "+---+---+-------+----------+-------------------+"
      ]
     },
     "execution_count": 20,
     "metadata": {},
     "output_type": "execute_result"
    }
   ],
   "source": [
    "spark.conf.set('spark.sql.repl.eagerEval.enabled', True)\n",
    "df"
   ]
  },
  {
   "cell_type": "code",
   "execution_count": 21,
   "metadata": {},
   "outputs": [
    {
     "name": "stdout",
     "output_type": "stream",
     "text": [
      "-RECORD 0------------------\n",
      " a   | 1                   \n",
      " b   | 1.0                 \n",
      " c   | String1             \n",
      " d   | 2023-01-01          \n",
      " e   | 2023-01-01 12:00:00 \n",
      "only showing top 1 row\n",
      "\n"
     ]
    }
   ],
   "source": [
    "df.show(1, vertical=True)"
   ]
  },
  {
   "cell_type": "code",
   "execution_count": 22,
   "metadata": {},
   "outputs": [
    {
     "data": {
      "text/plain": [
       "['a', 'b', 'c', 'd', 'e']"
      ]
     },
     "execution_count": 22,
     "metadata": {},
     "output_type": "execute_result"
    }
   ],
   "source": [
    "df.columns"
   ]
  },
  {
   "cell_type": "code",
   "execution_count": 23,
   "metadata": {},
   "outputs": [
    {
     "name": "stdout",
     "output_type": "stream",
     "text": [
      "root\n",
      " |-- a: long (nullable = true)\n",
      " |-- b: double (nullable = true)\n",
      " |-- c: string (nullable = true)\n",
      " |-- d: date (nullable = true)\n",
      " |-- e: timestamp (nullable = true)\n",
      "\n"
     ]
    }
   ],
   "source": [
    "df.printSchema()"
   ]
  },
  {
   "cell_type": "code",
   "execution_count": 24,
   "metadata": {},
   "outputs": [
    {
     "name": "stderr",
     "output_type": "stream",
     "text": [
      "[Stage 29:===========================================>              (3 + 1) / 4]\r"
     ]
    },
    {
     "name": "stdout",
     "output_type": "stream",
     "text": [
      "+-------+------------------+------------------+-------+\n",
      "|summary|                 a|                 b|      c|\n",
      "+-------+------------------+------------------+-------+\n",
      "|  count|                 4|                 4|      4|\n",
      "|   mean|               2.5|               2.5|   null|\n",
      "| stddev|1.2909944487358056|1.2909944487358056|   null|\n",
      "|    min|                 1|               1.0|String1|\n",
      "|    max|                 4|               4.0|String4|\n",
      "+-------+------------------+------------------+-------+\n",
      "\n"
     ]
    },
    {
     "name": "stderr",
     "output_type": "stream",
     "text": [
      "                                                                                \r"
     ]
    }
   ],
   "source": [
    "#summary of dataframe\n",
    "df.select('a', 'b', 'c').describe().show()"
   ]
  },
  {
   "cell_type": "markdown",
   "metadata": {},
   "source": [
    "DataFrame.collect() for collecting distributed data from the executors and bring it to the driver. Can throw out of memory exception when the dataset is too large to fit in the driver side, as all the data from the executors is collected."
   ]
  },
  {
   "cell_type": "code",
   "execution_count": 25,
   "metadata": {},
   "outputs": [
    {
     "data": {
      "text/plain": [
       "[Row(a=1, b=1.0, c='String1', d=datetime.date(2023, 1, 1), e=datetime.datetime(2023, 1, 1, 12, 0)),\n",
       " Row(a=2, b=2.0, c='String2', d=datetime.date(2023, 1, 2), e=datetime.datetime(2023, 1, 2, 12, 0)),\n",
       " Row(a=3, b=3.0, c='String3', d=datetime.date(2023, 1, 3), e=datetime.datetime(2023, 1, 3, 12, 0)),\n",
       " Row(a=4, b=4.0, c='String4', d=datetime.date(2023, 1, 4), e=datetime.datetime(2023, 1, 4, 12, 0))]"
      ]
     },
     "execution_count": 25,
     "metadata": {},
     "output_type": "execute_result"
    }
   ],
   "source": [
    "df.collect()"
   ]
  },
  {
   "cell_type": "code",
   "execution_count": 27,
   "metadata": {},
   "outputs": [
    {
     "data": {
      "text/plain": [
       "[Row(a=4, b=4.0, c='String4', d=datetime.date(2023, 1, 4), e=datetime.datetime(2023, 1, 4, 12, 0))]"
      ]
     },
     "execution_count": 27,
     "metadata": {},
     "output_type": "execute_result"
    }
   ],
   "source": [
    "df.take(2)\n",
    "df.tail(1)"
   ]
  },
  {
   "cell_type": "markdown",
   "metadata": {},
   "source": [
    "toPandas() also takes all the data from executors and brings it to the driver. So this could also result in out of memory exception."
   ]
  },
  {
   "cell_type": "code",
   "execution_count": 29,
   "metadata": {},
   "outputs": [
    {
     "data": {
      "text/html": [
       "<table border='1'>\n",
       "<tr><th>a</th><th>b</th><th>c</th><th>d</th><th>e</th></tr>\n",
       "<tr><td>1</td><td>1.0</td><td>String1</td><td>2023-01-01</td><td>2023-01-01 12:00:00</td></tr>\n",
       "<tr><td>2</td><td>2.0</td><td>String2</td><td>2023-01-02</td><td>2023-01-02 12:00:00</td></tr>\n",
       "<tr><td>3</td><td>3.0</td><td>String3</td><td>2023-01-03</td><td>2023-01-03 12:00:00</td></tr>\n",
       "<tr><td>4</td><td>4.0</td><td>String4</td><td>2023-01-04</td><td>2023-01-04 12:00:00</td></tr>\n",
       "</table>\n"
      ],
      "text/plain": [
       "DataFrame[a: bigint, b: double, c: string, d: date, e: timestamp]"
      ]
     },
     "execution_count": 29,
     "metadata": {},
     "output_type": "execute_result"
    }
   ],
   "source": [
    "df"
   ]
  },
  {
   "cell_type": "code",
   "execution_count": 32,
   "metadata": {},
   "outputs": [
    {
     "name": "stderr",
     "output_type": "stream",
     "text": [
      "                                                                                \r"
     ]
    },
    {
     "data": {
      "text/html": [
       "<div>\n",
       "<style scoped>\n",
       "    .dataframe tbody tr th:only-of-type {\n",
       "        vertical-align: middle;\n",
       "    }\n",
       "\n",
       "    .dataframe tbody tr th {\n",
       "        vertical-align: top;\n",
       "    }\n",
       "\n",
       "    .dataframe thead th {\n",
       "        text-align: right;\n",
       "    }\n",
       "</style>\n",
       "<table border=\"1\" class=\"dataframe\">\n",
       "  <thead>\n",
       "    <tr style=\"text-align: right;\">\n",
       "      <th></th>\n",
       "      <th>a</th>\n",
       "      <th>b</th>\n",
       "      <th>c</th>\n",
       "      <th>d</th>\n",
       "      <th>e</th>\n",
       "    </tr>\n",
       "  </thead>\n",
       "  <tbody>\n",
       "    <tr>\n",
       "      <th>0</th>\n",
       "      <td>1</td>\n",
       "      <td>1.0</td>\n",
       "      <td>String1</td>\n",
       "      <td>2023-01-01</td>\n",
       "      <td>2023-01-01 12:00:00</td>\n",
       "    </tr>\n",
       "    <tr>\n",
       "      <th>1</th>\n",
       "      <td>2</td>\n",
       "      <td>2.0</td>\n",
       "      <td>String2</td>\n",
       "      <td>2023-01-02</td>\n",
       "      <td>2023-01-02 12:00:00</td>\n",
       "    </tr>\n",
       "    <tr>\n",
       "      <th>2</th>\n",
       "      <td>3</td>\n",
       "      <td>3.0</td>\n",
       "      <td>String3</td>\n",
       "      <td>2023-01-03</td>\n",
       "      <td>2023-01-03 12:00:00</td>\n",
       "    </tr>\n",
       "    <tr>\n",
       "      <th>3</th>\n",
       "      <td>4</td>\n",
       "      <td>4.0</td>\n",
       "      <td>String4</td>\n",
       "      <td>2023-01-04</td>\n",
       "      <td>2023-01-04 12:00:00</td>\n",
       "    </tr>\n",
       "  </tbody>\n",
       "</table>\n",
       "</div>"
      ],
      "text/plain": [
       "   a    b        c           d                    e\n",
       "0  1  1.0  String1  2023-01-01  2023-01-01 12:00:00\n",
       "1  2  2.0  String2  2023-01-02  2023-01-02 12:00:00\n",
       "2  3  3.0  String3  2023-01-03  2023-01-03 12:00:00\n",
       "3  4  4.0  String4  2023-01-04  2023-01-04 12:00:00"
      ]
     },
     "execution_count": 32,
     "metadata": {},
     "output_type": "execute_result"
    }
   ],
   "source": [
    "from pyspark.sql.functions import date_format\n",
    "\n",
    "df_pandas = df.withColumn('e', date_format('e', 'yyyy-MM-dd HH:mm:ss')).toPandas()\n",
    "df_pandas"
   ]
  },
  {
   "cell_type": "code",
   "execution_count": 35,
   "metadata": {},
   "outputs": [
    {
     "name": "stdout",
     "output_type": "stream",
     "text": [
      "<class 'pyspark.sql.dataframe.DataFrame'>\n",
      "<class 'pandas.core.frame.DataFrame'>\n"
     ]
    }
   ],
   "source": [
    "print(type(df))\n",
    "print(type(df_pandas))"
   ]
  },
  {
   "cell_type": "markdown",
   "metadata": {},
   "source": [
    "Selecting and accessing data"
   ]
  },
  {
   "cell_type": "code",
   "execution_count": 36,
   "metadata": {},
   "outputs": [
    {
     "data": {
      "text/plain": [
       "Column<'a'>"
      ]
     },
     "execution_count": 36,
     "metadata": {},
     "output_type": "execute_result"
    }
   ],
   "source": [
    "df.a"
   ]
  },
  {
   "cell_type": "code",
   "execution_count": 37,
   "metadata": {},
   "outputs": [],
   "source": [
    "from pyspark.sql import Column\n",
    "from pyspark.sql.functions import upper"
   ]
  },
  {
   "cell_type": "code",
   "execution_count": 38,
   "metadata": {},
   "outputs": [
    {
     "name": "stdout",
     "output_type": "stream",
     "text": [
      "+-------+\n",
      "|      c|\n",
      "+-------+\n",
      "|String1|\n",
      "|String2|\n",
      "|String3|\n",
      "|String4|\n",
      "+-------+\n",
      "\n"
     ]
    }
   ],
   "source": [
    "df.select(df.c).show()"
   ]
  },
  {
   "cell_type": "code",
   "execution_count": 39,
   "metadata": {},
   "outputs": [
    {
     "name": "stdout",
     "output_type": "stream",
     "text": [
      "+---+---+-------+----------+-------------------+-------+\n",
      "|  a|  b|      c|         d|                  e|upper_c|\n",
      "+---+---+-------+----------+-------------------+-------+\n",
      "|  1|1.0|String1|2023-01-01|2023-01-01 12:00:00|STRING1|\n",
      "|  2|2.0|String2|2023-01-02|2023-01-02 12:00:00|STRING2|\n",
      "|  3|3.0|String3|2023-01-03|2023-01-03 12:00:00|STRING3|\n",
      "|  4|4.0|String4|2023-01-04|2023-01-04 12:00:00|STRING4|\n",
      "+---+---+-------+----------+-------------------+-------+\n",
      "\n"
     ]
    }
   ],
   "source": [
    "df.withColumn('upper_c', upper('c')).show()\n",
    "df.withColumn('upper_c', upper('c')).show()"
   ]
  },
  {
   "cell_type": "code",
   "execution_count": 41,
   "metadata": {},
   "outputs": [
    {
     "name": "stdout",
     "output_type": "stream",
     "text": [
      "+---+---+-------+----------+-------------------+\n",
      "|  a|  b|      c|         d|                  e|\n",
      "+---+---+-------+----------+-------------------+\n",
      "|  2|2.0|String2|2023-01-02|2023-01-02 12:00:00|\n",
      "+---+---+-------+----------+-------------------+\n",
      "\n"
     ]
    }
   ],
   "source": [
    "df.filter(df.a == 2).show()"
   ]
  }
 ],
 "metadata": {
  "kernelspec": {
   "display_name": "Python 3",
   "language": "python",
   "name": "python3"
  },
  "language_info": {
   "codemirror_mode": {
    "name": "ipython",
    "version": 3
   },
   "file_extension": ".py",
   "mimetype": "text/x-python",
   "name": "python",
   "nbconvert_exporter": "python",
   "pygments_lexer": "ipython3",
   "version": "3.11.0"
  },
  "orig_nbformat": 4
 },
 "nbformat": 4,
 "nbformat_minor": 2
}
